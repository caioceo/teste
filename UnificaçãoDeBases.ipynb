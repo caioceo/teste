{
  "nbformat": 4,
  "nbformat_minor": 0,
  "metadata": {
    "colab": {
      "provenance": [],
      "authorship_tag": "ABX9TyO//CYzMYeg0h/4GpbpmbH5",
      "include_colab_link": true
    },
    "kernelspec": {
      "name": "python3",
      "display_name": "Python 3"
    },
    "language_info": {
      "name": "python"
    }
  },
  "cells": [
    {
      "cell_type": "markdown",
      "metadata": {
        "id": "view-in-github",
        "colab_type": "text"
      },
      "source": [
        "<a href=\"https://colab.research.google.com/github/caioceo/teste/blob/main/Unifica%C3%A7%C3%A3oDeBases.ipynb\" target=\"_parent\"><img src=\"https://colab.research.google.com/assets/colab-badge.svg\" alt=\"Open In Colab\"/></a>"
      ]
    },
    {
      "cell_type": "code",
      "execution_count": null,
      "metadata": {
        "id": "IrmNd-nzMQmk",
        "colab": {
          "base_uri": "https://localhost:8080/"
        },
        "outputId": "c68587fe-c182-4b26-abf3-3a18afc34a6e"
      },
      "outputs": [
        {
          "output_type": "stream",
          "name": "stdout",
          "text": [
            "Dados do Excel:\n",
            "                                         NO_IES SG_UF_IES  \\\n",
            "0           UNIVERSIDADE CATÓLICA DE PERNAMBUCO        PE   \n",
            "1         UNIVERSIDADE DO VALE DO RIO DOS SINOS        RS   \n",
            "2           UNIVERSIDADE CATÓLICA DE PETRÓPOLIS        RJ   \n",
            "3              UNIVERSIDADE CATÓLICA DE PELOTAS        RS   \n",
            "4  PONTIFÍCIA UNIVERSIDADE CATÓLICA DE CAMPINAS        SP   \n",
            "\n",
            "   TP_CATEGORIA_ADMINISTRATIVA  QT_TEC_TOTAL  QT_DOC_TOTAL  QT_DOC_EX_DOUT  \\\n",
            "0                            5           416           539             286   \n",
            "1                            5           887           891             498   \n",
            "2                            5           232           154              66   \n",
            "3                            5           267           319             101   \n",
            "4                            5           769           793             432   \n",
            "\n",
            "   QT_DOC_EX_MEST  QT_PERIODICO_ELETRONICO  QT_LIVRO_ELETRONICO  \\\n",
            "0             207                      174                15459   \n",
            "1             317                    32353                31245   \n",
            "2              84                        0                35328   \n",
            "3             102                      128                13000   \n",
            "4             237                     1693                25206   \n",
            "\n",
            "   IN_ACESSO_PORTAL_CAPES  IN_REPOSITORIO_INSTITUCIONAL  IN_SERVICO_INTERNET  \n",
            "0                       1                             0                    1  \n",
            "1                       1                             1                    1  \n",
            "2                       1                             0                    1  \n",
            "3                       1                             1                    1  \n",
            "4                       1                             1                    1  \n",
            "\n",
            "Dados do CSV:\n",
            "   idade     genero cor_raca          estado   nivel_ensino situacao_trabalho  \\\n",
            "0     51  Masculino    Pardo    Minas Gerais  Pós-graduação              CNPJ   \n",
            "1     33  Masculino   Branca    Minas Gerais  Pós-graduação              CNPJ   \n",
            "2     31  Masculino   Branca  Espírito Santo  Pós-graduação               CLT   \n",
            "3     35  Masculino    Pardo  Espírito Santo  Pós-graduação               CLT   \n",
            "4     28  Masculino   Branca       São Paulo  Pós-graduação               CLT   \n",
            "\n",
            "                                 setor   tamanho_empresa  \\\n",
            "0                          Outra Opção      de 101 a 500   \n",
            "1  Setor Imobiliário/ Construção Civil  de 1.001 a 3.000   \n",
            "2       Tecnologia/Fábrica de Software    Acima de 3.000   \n",
            "3       Tecnologia/Fábrica de Software  de 1.001 a 3.000   \n",
            "4                    Setor Alimentício    de 501 a 1.000   \n",
            "\n",
            "                                               cargo nivel_cargo  ...  \\\n",
            "0                                                NaN         NaN  ...   \n",
            "1                                                NaN         NaN  ...   \n",
            "2  Engenheiro de Dados/Arquiteto de Dados/Data En...      Júnior  ...   \n",
            "3                                        Outra Opção      Júnior  ...   \n",
            "4                          Analista de BI/BI Analyst       Pleno  ...   \n",
            "\n",
            "  ia_gratuita ia_paga_pessoal ia_paga_empresa  ia_usa_copilot  \\\n",
            "0           0               0               0               0   \n",
            "1           0               0               0               0   \n",
            "2           0               1               0               0   \n",
            "3           1               0               0               0   \n",
            "4           1               0               0               0   \n",
            "\n",
            "  tamanho_empresa_cat satisfacao_binaria salario_medio exp_dados_num  \\\n",
            "0               Média                  1       18000.0           1.5   \n",
            "1                 NaN                  1       18000.0          10.0   \n",
            "2              Grande                  1        7000.0           1.5   \n",
            "3                 NaN                  0        5000.0           NaN   \n",
            "4              Grande                  1        5000.0           1.5   \n",
            "\n",
            "   exp_ti_num        nivel_ia  \n",
            "0         0.5    Baixa adoção  \n",
            "1         0.5  IA em produtos  \n",
            "2         1.5          Outros  \n",
            "3        10.0          Outros  \n",
            "4         NaN          Outros  \n",
            "\n",
            "[5 rows x 60 columns]\n",
            "\n",
            "Colunas em comum: []\n",
            "\n",
            "Dados unidos salvos em 'dados_unidos.csv'\n"
          ]
        }
      ],
      "source": [
        "import pandas as pd\n",
        "\n",
        "# Leitura dos arquivos\n",
        "df_excel = pd.read_excel('Analise_Ensino_Superior_Consolidada.xlsx')\n",
        "df_csv = pd.read_csv('dados_processados.csv')\n",
        "\n",
        "# Verifica as primeiras linhas de cada DataFrame\n",
        "print(\"Dados do Excel:\")\n",
        "print(df_excel.head())\n",
        "print(\"\\nDados do CSV:\")\n",
        "print(df_csv.head())\n",
        "\n",
        "# Identifica colunas comuns entre os DataFrames\n",
        "colunas_comuns = list(set(df_excel.columns) & set(df_csv.columns))\n",
        "print(\"\\nColunas em comum:\", colunas_comuns)\n",
        "\n",
        "# Se existir uma coluna comum (ex.: 'ID'), realiza merge; senão, concatena os DataFrames\n",
        "if 'ID' in colunas_comuns:\n",
        "    # Merge com base na coluna 'ID'\n",
        "    df_unido = pd.merge(df_excel, df_csv, on='ID', how='outer')\n",
        "else:\n",
        "    # Concatenação horizontal, alinhando os DataFrames por índice\n",
        "    df_unido = pd.concat([df_excel, df_csv], axis=1)\n",
        "\n",
        "# Adiciona coluna de contextualização conforme a análise dos desafios e oportunidades\n",
        "contextualizacao = (\n",
        "    \"IA Generativa: Análise dos desafios enfrentados por profissionais juniores e microempresas, \"\n",
        "    \"incluindo barreiras financeiras, estruturais e a exigência de experiência para a adoção de \"\n",
        "    \"tecnologias disruptivas no mercado.\"\n",
        ")\n",
        "df_unido['Contextualizacao'] = contextualizacao\n",
        "\n",
        "# Salva o DataFrame resultante em um novo arquivo CSV\n",
        "df_unido.to_csv('dados_unidos.csv', index=False)\n",
        "print(\"\\nDados unidos salvos em 'dados_unidos.csv'\")"
      ]
    }
  ]
}